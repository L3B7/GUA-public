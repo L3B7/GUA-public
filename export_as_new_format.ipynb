{
 "cells": [
  {
   "cell_type": "code",
   "execution_count": 9,
   "metadata": {},
   "outputs": [
    {
     "name": "stdout",
     "output_type": "stream",
     "text": [
      "Collecting tqdm\n",
      "  Downloading tqdm-4.67.1-py3-none-any.whl.metadata (57 kB)\n",
      "Requirement already satisfied: colorama in c:\\gua\\gh_repo\\gua\\.venv\\lib\\site-packages (from tqdm) (0.4.6)\n",
      "Downloading tqdm-4.67.1-py3-none-any.whl (78 kB)\n",
      "Installing collected packages: tqdm\n",
      "Successfully installed tqdm-4.67.1\n",
      "Note: you may need to restart the kernel to use updated packages.\n"
     ]
    }
   ],
   "source": [
    "%pip install tqdm"
   ]
  },
  {
   "cell_type": "code",
   "execution_count": 10,
   "metadata": {},
   "outputs": [],
   "source": [
    "import sys\n",
    "import os\n",
    "import json\n",
    "from enum import IntEnum, Enum\n",
    "import numpy as np\n",
    "import statistics as stat\n",
    "import scipy.signal\n",
    "import scipy\n",
    "from typing import Optional\n",
    "import pandas as pd\n",
    "from tqdm import tqdm\n",
    "        \n",
    "import json"
   ]
  },
  {
   "cell_type": "code",
   "execution_count": 11,
   "metadata": {},
   "outputs": [],
   "source": [
    "from gua_enums import SensorEnum,SamplingRateEnum,InterpolModesEnum"
   ]
  },
  {
   "cell_type": "code",
   "execution_count": 12,
   "metadata": {},
   "outputs": [],
   "source": [
    "class GestureDataset():\n",
    "    \"\"\"\n",
    "    Class for handling the gesture dataset\n",
    "    \"\"\"\n",
    "    def __init__(self):\n",
    "        self.AllMeasurements = pd.DataFrame()\n",
    "        self.folderprefix = None\n",
    "        self.ids = None\n",
    "    class OneSensorMeasurement:\n",
    "        def __init__(self, path: str):\n",
    "            with open(path) as in_file:\n",
    "                #print(path)\n",
    "                fname = path.split(os.sep)[-1]\n",
    "                self.uid = fname.split(\"-\")[0].split(\"_\")[0]\n",
    "                self.nid:int = (int)(fname.split(\"-\")[0].split(\"_\")[1])\n",
    "                try:\n",
    "                    filedata:list = json.load(in_file)\n",
    "                    self.sensorType = SensorEnum(filedata[0])\n",
    "                    self.oldName = filedata[1]\n",
    "                    self.stamp = filedata[1].split('_')[2]\n",
    "                    self.toFlag = fname.__contains__(\"timeOut\") or fname.__contains__(\"timeout\")\n",
    "                    self.selfFlag = fname.__contains__(\"self\")\n",
    "                    if(filedata.__len__() > 3):\n",
    "                        self.samplingRate:SamplingRateEnum =  SamplingRateEnum.get_enum_from_string(filedata[2])\n",
    "                    else:\n",
    "                        self.samplingRate = SamplingRateEnum.FASTEST.name\n",
    "                    array_of_dicts = filedata[filedata.__len__() - 1]\n",
    "                    if(array_of_dicts.__len__()!=0):\n",
    "                        self.timestamps=np.zeros((array_of_dicts.__len__()),dtype=np.longlong)\n",
    "                        self.sensorData =  np.zeros((len(array_of_dicts), len(array_of_dicts[0]['values'])))\n",
    "                        #t0 = array_of_dicts[0]['timestamp']\n",
    "                        for index, d in enumerate(array_of_dicts):\n",
    "                            self.timestamps[index]=d['timestamp']\n",
    "                            self.sensorData[index]=d['values']\n",
    "                    else:\n",
    "                        self.sensorData = {}\n",
    "                except:\n",
    "                    self.sensorType=SensorEnum.from_short_string(SensorEnum,short_string=(fname.split('.')[-2])[-3:])\n",
    "                    self.oldName = None\n",
    "                    self.toFlag = fname.__contains__(\"timedOut\")\n",
    "                    self.selfFlag = fname.__contains__(\"self\")\n",
    "                    self.samplingRate = None\n",
    "                    self.timestamps=np.empty(())\n",
    "                    self.sensorData = np.empty(())\n",
    "\n",
    "        def __flat__(self,filterTO=False):\n",
    "            if self.timestamps.size ==0:\n",
    "                return None\n",
    "            if (not filterTO):\n",
    "                    return [self.uid,self.nid,self.sensorType,self.samplingRate,self.toFlag,self.selfFlag,self.oldName,self.timestamps,self.sensorData]\n",
    "            elif not self.toFlag:\n",
    "                    return [self.uid,self.nid,self.sensorType,self.samplingRate,self.toFlag,self.selfFlag,self.oldName,self.timestamps,self.sensorData]\n",
    "    \n",
    "    def load(self, path: str, filterTo = False) -> None: \n",
    "        self.folderprefix = path\n",
    "        self.ids = os.listdir(self.folderprefix)\n",
    "        self.ids = [d for d in self.ids if os.path.isdir(os.path.join(self.folderprefix, d))]\n",
    "        mlist = []\n",
    "        for uid in self.ids:\n",
    "            filePath = os.path.join(self.folderprefix, uid)\n",
    "            #filePath is the uid folders\n",
    "            for filename in tqdm(os.listdir(filePath)):\n",
    "                if os.path.isfile(os.path.join(filePath, filename)):\n",
    "                    #print(os.path.join(filePath, filename))\n",
    "                    tmp = self.OneSensorMeasurement(os.path.join(filePath, filename)).__flat__(filterTo)\n",
    "                    if tmp != None:\n",
    "                        mlist.append(tmp)\n",
    "        newMeasurements = pd.DataFrame(mlist,columns=['uid','mid','stype','samplerate','timeoutFlag','selftriggerFlag','oldname','timestamp','sensordata'])\n",
    "        self.AllMeasurements = pd.concat([self.AllMeasurements,newMeasurements],ignore_index=True)\n",
    "\n",
    "\n",
    "\n",
    "    def export(self, output_folder: str) -> pd.DataFrame:\n",
    "        combined_measurements = self.AllMeasurements.groupby(['uid', 'mid']).agg({\n",
    "            'stype': lambda x: list(x),\n",
    "            'samplerate': lambda x: list(x),\n",
    "            'timeoutFlag': lambda x: list(x),\n",
    "            'selftriggerFlag': lambda x: list(x),\n",
    "            'oldname': lambda x: list(x),\n",
    "            'timestamp': lambda x: list(x),\n",
    "            'sensordata': lambda x: list(x),\n",
    "        }).reset_index()\n",
    "        for _, row in combined_measurements.iterrows():\n",
    "            different_sensor_measurements = []\n",
    "            for stype, samplerate, timeoutFlag, selftriggerFlag, oldname, timestamp, sensordata in zip(\n",
    "                    row['stype'], row['samplerate'], row['timeoutFlag'], row['selftriggerFlag'],\n",
    "                    row['oldname'], row['timestamp'], row['sensordata']):\n",
    "                sensor_events = []\n",
    "                for ts, data in zip(timestamp, sensordata):\n",
    "                    sensor_events.append({\n",
    "                        \"timestamp\": int(ts),\n",
    "                        \"values\": data.tolist()\n",
    "                    })\n",
    "                different_sensor_measurements.append({\n",
    "                    \"rateEnum\": SamplingRateEnum(samplerate).name,\n",
    "                    \"sensorEnum\": stype.name,\n",
    "                    \"sensorEvents\": sensor_events\n",
    "                })\n",
    "            single_measurement = {\n",
    "                \"filename\": row['oldname'][0],\n",
    "                \"uid\": row['uid'],\n",
    "                \"mid\": row['mid'],\n",
    "                \"selfTriggerFlag\": selftriggerFlag,\n",
    "                \"timeoutFlag\": timeoutFlag,\n",
    "                \"sensorMeasurements\": different_sensor_measurements\n",
    "            }\n",
    "            newname = (row['oldname'][0].split('.')[0])[:-3] + '_all.json'\n",
    "            if not os.path.exists(output_folder + row['uid']):\n",
    "                os.makedirs(output_folder + row['uid'])\n",
    "            with open(output_folder + row['uid'] + '/' +  newname, 'w') as fw:\n",
    "                json.dump(single_measurement, fw, indent=4)\n",
    "        \n",
    "\n"
   ]
  },
  {
   "cell_type": "code",
   "execution_count": 13,
   "metadata": {},
   "outputs": [
    {
     "name": "stderr",
     "output_type": "stream",
     "text": [
      "  0%|          | 0/64 [00:00<?, ?it/s]"
     ]
    },
    {
     "name": "stderr",
     "output_type": "stream",
     "text": [
      "100%|██████████| 64/64 [00:00<00:00, 203.93it/s]\n",
      "100%|██████████| 232/232 [00:01<00:00, 222.27it/s]\n",
      "100%|██████████| 232/232 [00:01<00:00, 199.74it/s]\n",
      "100%|██████████| 127/127 [00:00<00:00, 190.20it/s]\n",
      "100%|██████████| 223/223 [00:01<00:00, 212.36it/s]\n",
      "100%|██████████| 224/224 [00:00<00:00, 243.21it/s]\n",
      "100%|██████████| 122/122 [00:00<00:00, 205.63it/s]\n",
      "100%|██████████| 86/86 [00:00<00:00, 184.76it/s]\n",
      "100%|██████████| 70/70 [00:00<00:00, 173.14it/s]\n",
      "100%|██████████| 112/112 [00:00<00:00, 155.33it/s]\n",
      "100%|██████████| 63/63 [00:00<00:00, 174.23it/s]\n",
      "100%|██████████| 112/112 [00:00<00:00, 172.71it/s]\n",
      "100%|██████████| 77/77 [00:00<00:00, 199.96it/s]\n",
      "100%|██████████| 416/416 [00:02<00:00, 171.12it/s]\n",
      "100%|██████████| 416/416 [00:02<00:00, 167.07it/s]\n",
      "100%|██████████| 424/424 [00:02<00:00, 159.13it/s]\n"
     ]
    }
   ],
   "source": [
    "mydataset = GestureDataset()\n",
    "mydataset.load(\"./files/session2/\", True)\n",
    "mydataset.load(\"./files/session1/\", True)\n",
    "mydataset.load(\"./files/diy_50/\", True)"
   ]
  },
  {
   "cell_type": "code",
   "execution_count": 15,
   "metadata": {},
   "outputs": [
    {
     "data": {
      "text/plain": [
       "array(['90001', '90002', '90003', '90004', '90005', '90006', '90007',\n",
       "       '90010', '0112', '0113', '0114'], dtype=object)"
      ]
     },
     "execution_count": 15,
     "metadata": {},
     "output_type": "execute_result"
    }
   ],
   "source": [
    "mydataset.AllMeasurements['uid'].unique()\n"
   ]
  },
  {
   "cell_type": "code",
   "execution_count": 17,
   "metadata": {},
   "outputs": [],
   "source": [
    "df = mydataset.AllMeasurements.copy()\n",
    "df['counter']=df.groupby(['uid','selftriggerFlag','mid','stype']).cumcount()\n",
    "df.set_index(keys=['uid','selftriggerFlag','mid','stype','counter'], inplace=True, drop=False)\n",
    "df.sort_index(inplace=True)\n",
    "df.to_pickle('combined_all.pkl')"
   ]
  },
  {
   "cell_type": "code",
   "execution_count": 17,
   "metadata": {},
   "outputs": [],
   "source": [
    "combined = mydataset.export(\"./files/jsonout/combined/\")"
   ]
  },
  {
   "cell_type": "code",
   "execution_count": 47,
   "metadata": {},
   "outputs": [
    {
     "data": {
      "text/plain": [
       "uid                                                            90002\n",
       "mid                                                                2\n",
       "stype              [SensorEnum.GRV, SensorEnum.PRX, SensorEnum.LG...\n",
       "samplerate                                  [0, 0, 0, 0, 0, 0, 0, 0]\n",
       "timeoutFlag        [False, False, False, False, False, False, Fal...\n",
       "selftriggerFlag    [False, False, False, False, False, False, Fal...\n",
       "oldname            [0_2_1683108727165, 0_2_1683108727165, 0_2_168...\n",
       "timestamp          [[3837683382295, 3837687947969, 3837692502168,...\n",
       "sensordata         [[[0.74060726, -0.32715246, 9.776532], [0.7744...\n",
       "Name: 8, dtype: object"
      ]
     },
     "execution_count": 47,
     "metadata": {},
     "output_type": "execute_result"
    }
   ],
   "source": [
    "combined.iloc[8]\n",
    "\n",
    "#for column in combined.columns:\n",
    "#    print(column, \":  \",combined.iloc[1][column])"
   ]
  }
 ],
 "metadata": {
  "kernelspec": {
   "display_name": ".venv",
   "language": "python",
   "name": "python3"
  },
  "language_info": {
   "codemirror_mode": {
    "name": "ipython",
    "version": 3
   },
   "file_extension": ".py",
   "mimetype": "text/x-python",
   "name": "python",
   "nbconvert_exporter": "python",
   "pygments_lexer": "ipython3",
   "version": "3.11.9"
  }
 },
 "nbformat": 4,
 "nbformat_minor": 2
}
