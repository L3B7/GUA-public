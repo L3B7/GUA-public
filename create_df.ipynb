{
 "cells": [
  {
   "cell_type": "code",
   "execution_count": 2,
   "metadata": {},
   "outputs": [],
   "source": [
    "import sys\n",
    "import os\n",
    "import json\n",
    "from enum import IntEnum, Enum\n",
    "import numpy as np\n",
    "import matplotlib.mlab as mlab\n",
    "import statistics as stat\n",
    "import scipy.signal\n",
    "import scipy\n",
    "from typing import Optional\n",
    "import pandas as pd\n",
    "from tqdm import tqdm\n"
   ]
  },
  {
   "cell_type": "code",
   "execution_count": 3,
   "metadata": {},
   "outputs": [],
   "source": [
    "from gua_enums import SensorEnum,SamplingRateEnum,InterpolModesEnum"
   ]
  },
  {
   "cell_type": "code",
   "execution_count": 13,
   "metadata": {},
   "outputs": [],
   "source": [
    "class GestureDataset():\n",
    "    \"\"\"\n",
    "    Class for handling the gesture dataset\n",
    "    \"\"\"\n",
    "\n",
    "    class OneSensorMeasurement:\n",
    "        def __init__(self, path: str):\n",
    "            with open(path) as in_file:\n",
    "                #print(path)\n",
    "                fname = path.split(os.sep)[-1]\n",
    "                self.uid = fname.split(\"-\")[0].split(\"_\")[0]\n",
    "                self.nid:int = (int)(fname.split(\"-\")[0].split(\"_\")[1])\n",
    "                try:\n",
    "                    filedata:list = json.load(in_file)\n",
    "                    self.sensorType = SensorEnum(filedata[0])\n",
    "                    self.oldName = filedata[1]\n",
    "                    self.stamp = filedata[1].split('_')[2]\n",
    "                    self.toFlag = fname.__contains__(\"timeOut\") or fname.__contains__(\"timeout\")\n",
    "                    self.selfFlag = fname.__contains__(\"self\")\n",
    "                    if(filedata.__len__() > 3):\n",
    "                        self.samplingRate:SamplingRateEnum =  SamplingRateEnum.get_enum_from_string(filedata[2])\n",
    "                    else:\n",
    "                        self.samplingRate = SamplingRateEnum.FASTEST\n",
    "                    array_of_dicts = filedata[filedata.__len__() - 1]\n",
    "                    if(array_of_dicts.__len__()!=0):\n",
    "                        self.timestamps=np.zeros((array_of_dicts.__len__()),dtype=np.longlong)\n",
    "                        self.sensorData =  np.zeros((len(array_of_dicts), len(array_of_dicts[0]['values'])))\n",
    "                        #t0 = array_of_dicts[0]['timestamp']\n",
    "                        for index, d in enumerate(array_of_dicts):\n",
    "                            self.timestamps[index]=d['timestamp']\n",
    "                            self.sensorData[index]=d['values']\n",
    "                        \n",
    "                        #linear interpolation\n",
    "                        self.lin_timestamps = np.linspace(self.timestamps[0], self.timestamps[-1], len(self.timestamps))\n",
    "                        self.lin_sensorData = np.zeros((len(array_of_dicts), len(array_of_dicts[0]['values'])))\n",
    "                        for i in range(self.sensorData.shape[1]):\n",
    "                            self.lin_sensorData[:, i] = np.interp(self.lin_timestamps, self.timestamps, self.sensorData[:, i])\n",
    "                    else:\n",
    "                        self.sensorData = {}\n",
    "                except:\n",
    "                    self.sensorType=SensorEnum.from_short_string(SensorEnum,short_string=(fname.split('.')[-2])[-3:])\n",
    "                    self.oldName = None\n",
    "                    self.toFlag = fname.__contains__(\"timedOut\")\n",
    "                    self.selfFlag = fname.__contains__(\"self\")\n",
    "                    self.samplingRate = None\n",
    "                    self.timestamps=np.empty(())\n",
    "                    self.sensorData = np.empty(())\n",
    "                    self.lin_timestamps=np.empty(())\n",
    "                    self.lin_sensorData = np.empty(())\n",
    "                \n",
    "                \n",
    "\n",
    "\n",
    "\n",
    "\n",
    "        def __flat__(self,filterTO=False):\n",
    "            if self.timestamps.size ==0:\n",
    "                return None\n",
    "            if (not filterTO):\n",
    "                    return [self.uid,self.nid,self.sensorType,self.samplingRate,self.toFlag,self.selfFlag,self.oldName,self.timestamps,self.sensorData,self.lin_timestamps,self.lin_sensorData]\n",
    "            elif not self.toFlag:\n",
    "                    return [self.uid,self.nid,self.sensorType,self.samplingRate,self.toFlag,self.selfFlag,self.oldName,self.timestamps,self.sensorData,self.lin_timestamps,self.lin_sensorData]\n",
    "    def load(self, path: str, filterTo = False) -> None:\n",
    "        \n",
    "        self.folderprefix = path\n",
    "        self.ids = os.listdir(self.folderprefix)\n",
    "        self.ids = [d for d in self.ids if os.path.isdir(os.path.join(self.folderprefix, d))]\n",
    "        mlist = []\n",
    "        for uid in self.ids:\n",
    "            filePath = os.path.join(self.folderprefix, uid)\n",
    "            #filePath is the uid folders\n",
    "            for filename in tqdm(os.listdir(filePath)):\n",
    "                if os.path.isfile(os.path.join(filePath, filename)):\n",
    "                    #print(os.path.join(filePath, filename))\n",
    "                    tmp = self.OneSensorMeasurement(os.path.join(filePath, filename)).__flat__(filterTo)\n",
    "                    if tmp != None:\n",
    "                        mlist.append(tmp)\n",
    "        self.AllMeasurements = pd.DataFrame(mlist,columns=['uid','mid','stype','samplerate','timeoutFlag','selftriggerFlag','oldname','timestamp','sensordata','lin_timestamp','lin_sensordata'])\n",
    "        \n",
    "        \n",
    "\n"
   ]
  },
  {
   "cell_type": "code",
   "execution_count": null,
   "metadata": {},
   "outputs": [
    {
     "data": {
      "text/plain": [
       "['session1', 'session2']"
      ]
     },
     "execution_count": 18,
     "metadata": {},
     "output_type": "execute_result"
    }
   ],
   "source": []
  },
  {
   "cell_type": "code",
   "execution_count": null,
   "metadata": {},
   "outputs": [
    {
     "name": "stderr",
     "output_type": "stream",
     "text": [
      "100%|██████████| 86/86 [00:00<00:00, 625.23it/s]\n",
      "100%|██████████| 70/70 [00:00<00:00, 1160.18it/s]\n",
      "100%|██████████| 112/112 [00:00<00:00, 655.48it/s]\n",
      "100%|██████████| 63/63 [00:00<00:00, 812.46it/s]\n",
      "100%|██████████| 112/112 [00:00<00:00, 673.65it/s]\n",
      "100%|██████████| 77/77 [00:00<00:00, 961.76it/s]\n",
      "100%|██████████| 64/64 [00:00<00:00, 874.97it/s]\n",
      "100%|██████████| 232/232 [00:00<00:00, 1207.76it/s]\n",
      "100%|██████████| 232/232 [00:00<00:00, 579.20it/s]\n",
      "100%|██████████| 127/127 [00:00<00:00, 1061.07it/s]\n",
      "100%|██████████| 223/223 [00:00<00:00, 926.94it/s]\n",
      "100%|██████████| 224/224 [00:00<00:00, 1162.77it/s]\n",
      "100%|██████████| 122/122 [00:00<00:00, 1217.93it/s]\n",
      "100%|██████████| 416/416 [00:00<00:00, 661.14it/s]\n",
      "100%|██████████| 416/416 [00:00<00:00, 531.23it/s]\n",
      "100%|██████████| 424/424 [00:00<00:00, 431.51it/s]\n"
     ]
    }
   ],
   "source": [
    "from datetime import datetime\n",
    "\n",
    "# List of paths\n",
    "paths = [\"./files/session1/\", \"./files/session2/\", \"./files/diy_50/\"]\n",
    "path_ends = [q.split('/')[-2] for q in paths]\n",
    "\n",
    "current_time = datetime.now().strftime(\"%Y_%m_%d_%H_%M_%S\")\n",
    "pickle_name = '_'.join(path_ends) + '_' + current_time + '.pkl'\n",
    "#pickle_name = 'merged_df.pkl'\n",
    "\n",
    "# Initialize an empty dataframe\n",
    "merged_df = pd.DataFrame()\n",
    "\n",
    "# Load each dataset and merge\n",
    "for path in paths:\n",
    "    dataset = GestureDataset()\n",
    "    dataset.load(path, True)\n",
    "    df = dataset.AllMeasurements.copy()\n",
    "    df['counter']=df.groupby(['uid','selftriggerFlag','mid','stype']).cumcount()\n",
    "    df.set_index(keys=['uid','selftriggerFlag','mid','stype','counter'], inplace=True, drop=False)\n",
    "    df.sort_index(inplace=True)\n",
    "    if merged_df.empty:\n",
    "        merged_df = df.copy()\n",
    "    else:\n",
    "        merged_df = pd.concat([merged_df, df.copy()], ignore_index=True)\n",
    "\n",
    "# Reset the index if needed\n",
    "# merged_df.reset_index(drop=True, inplace=True)\n",
    "\n",
    "print(merged_df['uid'].unique())\n",
    "df.to_pickle(pickle_name)"
   ]
  },
  {
   "cell_type": "code",
   "execution_count": 23,
   "metadata": {},
   "outputs": [
    {
     "name": "stdout",
     "output_type": "stream",
     "text": [
      "['90001' '90002' '90004' '90005' '90006' '90010' '90003' '90007' '0112'\n",
      " '0113' '0114']\n"
     ]
    }
   ],
   "source": [
    "print(merged_df['uid'].unique())\n"
   ]
  },
  {
   "cell_type": "code",
   "execution_count": null,
   "metadata": {},
   "outputs": [
    {
     "name": "stderr",
     "output_type": "stream",
     "text": [
      "100%|██████████| 232/232 [00:01<00:00, 231.31it/s]\n",
      "100%|██████████| 232/232 [00:00<00:00, 415.72it/s]\n",
      "100%|██████████| 224/224 [00:00<00:00, 401.85it/s]\n",
      "100%|██████████| 127/127 [00:00<00:00, 444.84it/s]\n",
      "100%|██████████| 64/64 [00:00<00:00, 307.73it/s]\n",
      "100%|██████████| 122/122 [00:00<00:00, 404.36it/s]\n",
      "100%|██████████| 223/223 [00:00<00:00, 280.91it/s]\n"
     ]
    }
   ],
   "source": [
    "mydataset = GestureDataset()\n",
    "mydataset.load(\"./files/session2/\", True)"
   ]
  },
  {
   "cell_type": "code",
   "execution_count": null,
   "metadata": {},
   "outputs": [],
   "source": [
    "df = mydataset.AllMeasurements.copy()\n",
    "df['counter']=df.groupby(['uid','selftriggerFlag','mid','stype']).cumcount()\n",
    "df.set_index(keys=['uid','selftriggerFlag','mid','stype','counter'], inplace=True, drop=False)\n",
    "df.sort_index(inplace=True)"
   ]
  },
  {
   "cell_type": "code",
   "execution_count": 9,
   "metadata": {},
   "outputs": [
    {
     "data": {
      "text/plain": [
       "array(['90001', '90002', '90003', '90004', '90005', '90006', '90007'],\n",
       "      dtype=object)"
      ]
     },
     "execution_count": 9,
     "metadata": {},
     "output_type": "execute_result"
    }
   ],
   "source": [
    "df['uid'].unique()"
   ]
  },
  {
   "cell_type": "code",
   "execution_count": 10,
   "metadata": {},
   "outputs": [],
   "source": [
    "df.to_pickle('sess2_base.pkl')"
   ]
  },
  {
   "cell_type": "markdown",
   "metadata": {},
   "source": [
    "Eddig."
   ]
  },
  {
   "cell_type": "code",
   "execution_count": 93,
   "metadata": {},
   "outputs": [],
   "source": [
    "df.set_index(keys=['uid','mid','counter','stype'], inplace=True, drop=True)\n",
    "df.sort_index(inplace=True)"
   ]
  },
  {
   "cell_type": "code",
   "execution_count": 3,
   "metadata": {},
   "outputs": [
    {
     "ename": "NameError",
     "evalue": "name 'df' is not defined",
     "output_type": "error",
     "traceback": [
      "\u001b[0;31m---------------------------------------------------------------------------\u001b[0m",
      "\u001b[0;31mNameError\u001b[0m                                 Traceback (most recent call last)",
      "\u001b[1;32m/home/bolle/gua_project/GUA/create_df.ipynb Cell 11\u001b[0m line \u001b[0;36m1\n\u001b[0;32m----> <a href='vscode-notebook-cell://ssh-remote%2Bcactus/home/bolle/gua_project/GUA/create_df.ipynb#X13sdnNjb2RlLXJlbW90ZQ%3D%3D?line=0'>1</a>\u001b[0m df\u001b[39m.\u001b[39msort_index(inplace\u001b[39m=\u001b[39m\u001b[39mTrue\u001b[39;00m)\n",
      "\u001b[0;31mNameError\u001b[0m: name 'df' is not defined"
     ]
    }
   ],
   "source": [
    "df.sort_index(inplace=True)"
   ]
  },
  {
   "cell_type": "code",
   "execution_count": 2,
   "metadata": {},
   "outputs": [],
   "source": [
    "class GestureDataset():\n",
    "    \"\"\"\n",
    "    Class for handling the gesture dataset\n",
    "    \"\"\"\n",
    "\n",
    "    class OneSensorMeasurement:\n",
    "        def __init__(self, path: str):\n",
    "            with open(path) as in_file:\n",
    "                #print(path)\n",
    "                fname = path.split(os.sep)[-1]\n",
    "                self.uid = fname.split(\"-\")[0].split(\"_\")[0]\n",
    "                self.nid:int = (int)(fname.split(\"-\")[0].split(\"_\")[1])\n",
    "                try:\n",
    "                    filedata:list = json.load(in_file)\n",
    "                    self.sensorType = SensorEnum(filedata[0])\n",
    "                    self.oldName = filedata[1]\n",
    "                    self.stamp = filedata[1].split('_')[2]\n",
    "                    self.toFlag = fname.__contains__(\"timedOut\")\n",
    "                    self.selfFlag = fname.__contains__(\"self\")\n",
    "                    if(filedata.__len__() > 3):\n",
    "                        self.samplingRate:SamplingRateEnum =  SamplingRateEnum.get_enum_from_string(filedata[2])\n",
    "                    else:\n",
    "                        self.samplingRate = SamplingRateEnum.FASTEST\n",
    "                    array_of_dicts = filedata[filedata.__len__() - 1]\n",
    "                    if(array_of_dicts.__len__()!=0):\n",
    "                        self.timestamps=[]\n",
    "                        self.sensorData = []\n",
    "                        for d in array_of_dicts:\n",
    "                            self.timestamps.append(d['timestamp'])\n",
    "                            self.sensorData.append(d['values'])\n",
    "                    else:\n",
    "                        self.sensorData = {}\n",
    "                except:\n",
    "                    self.sensorType=SensorEnum.from_short_string(SensorEnum,short_string=(fname.split('.')[-2])[-3:])\n",
    "                    self.oldName = None\n",
    "                    self.toFlag = fname.__contains__(\"timedOut\")\n",
    "                    self.selfFlag = fname.__contains__(\"self\")\n",
    "                    self.samplingRate = None\n",
    "                    self.timestamps=[]\n",
    "                    self.sensorData = []\n",
    "                \n",
    "\n",
    "\n",
    "\n",
    "\n",
    "        def __flat__(self):\n",
    "            return [self.uid,self.nid,self.sensorType,self.samplingRate,self.toFlag,self.selfFlag,self.oldName,self.timestamps,self.sensorData]\n",
    "        \n",
    "    def load(self, path: str) -> None:\n",
    "        \n",
    "        self.folderprefix = path\n",
    "        self.ids = os.listdir(self.folderprefix)\n",
    "        mlist = []\n",
    "        for uid in self.ids:\n",
    "            filePath = os.path.join(self.folderprefix, uid)\n",
    "            #filePath is the uid folders\n",
    "            for filename in os.listdir(filePath):\n",
    "                if os.path.isfile(os.path.join(filePath, filename)):\n",
    "                    mlist.append(self.OneSensorMeasurement(os.path.join(filePath, filename)).__flat__())\n",
    "        self.AllMeasurements = pd.DataFrame(mlist,columns=['uid','mid','stype','samplerate','timeoutFlag','selftriggerFlag','oldname','timestamp','sensordata'])\n",
    "        \n",
    "        \n",
    "\n",
    "   "
   ]
  },
  {
   "cell_type": "code",
   "execution_count": null,
   "metadata": {},
   "outputs": [],
   "source": [
    "\"\"\"\n",
    "class GestureDataset():\n",
    "\n",
    "    class OneSensorMeasurement:\n",
    "        def __init__(self, path: str):\n",
    "            with open(path) as in_file:\n",
    "                try:\n",
    "                    filedata:list = json.load(in_file)\n",
    "                    fname = path.split(os.sep)[-1]\n",
    "                    self.uid = fname.split(\"-\")[0].split(\"_\")[0]\n",
    "                    self.nid:int = (int)(fname.split(\"-\")[0].split(\"_\")[1])\n",
    "                    self.sensorType = SensorEnum(filedata[0])\n",
    "                    self.oldName = filedata[1]\n",
    "                    self.stamp = filedata[1].split('_')[2]\n",
    "                    self.toFlag = fname.__contains__(\"timedOut\")\n",
    "                    self.selfFlag = fname.__contains__(\"self\")\n",
    "                    if(filedata.__len__() > 3):\n",
    "                        self.samplingRate:SamplingRateEnum =  SamplingRateEnum.get_enum_from_string(filedata[2])\n",
    "                    else:\n",
    "                        self.samplingRate = SamplingRateEnum.FASTEST\n",
    "                    array_of_dicts = filedata[filedata.__len__() - 1]\n",
    "                    if(array_of_dicts.__len__()!=0):\n",
    "                        self.sensorDataDict = {}\n",
    "                        for d in array_of_dicts:\n",
    "                            self.sensorDataDict[d['timestamp']]=d['values']\n",
    "                    else:\n",
    "                        self.sensorDataDict = {}\n",
    "                except:\n",
    "                    fname = path.split(os.sep)[-1].split('.')[0]\n",
    "                    self.uid = fname.split(\"-\")[0].split(\"_\")[0]\n",
    "                    self.nid:int = (int)(fname.split(\"-\")[0].split(\"_\")[1])\n",
    "                    self.sensorType=SensorEnum.from_short_string(SensorEnum,short_string=(fname.split('_')[-1])[-3:])\n",
    "                    self.oldName = None\n",
    "                    self.stamp = re.split(r'([a-zA-Z]+)',fname.split(\"_\")[2])[0]\n",
    "                    self.toFlag = fname.__contains__(\"timedOut\")\n",
    "                    self.selfFlag = fname.__contains__(\"self\")\n",
    "                    self.samplingRate = None\n",
    "                    self.sensorDataDict = None\n",
    "\n",
    "\n",
    "        def __flat__(self):\n",
    "            return [self.uid,self.nid,self.sensorType,self.toFlag,self.selfFlag,self.stamp,self.oldName,self.sensorDataDict]\n",
    "        \n",
    "    def load(self, path: str) -> None:\n",
    "        \n",
    "        self.folderprefix = path\n",
    "        self.ids = os.listdir(self.folderprefix)\n",
    "        mlist = []\n",
    "        for uid in self.ids:\n",
    "            filePath = os.path.join(self.folderprefix, uid)\n",
    "            #filePath is the uid folders\n",
    "            for filename in os.listdir(filePath):\n",
    "                if os.path.isfile(os.path.join(filePath, filename)):\n",
    "                    mlist.append(self.OneSensorMeasurement(os.path.join(filePath, filename)).__flat__())\n",
    "        self.AllMeasurements = pd.DataFrame(mlist,columns=['uid','mid','stype','timeoutFlag','selftriggerFlag','timestamp','fname','mdata'])\n",
    "        \n",
    "        \n",
    "\n",
    "   \n",
    "\"\"\""
   ]
  }
 ],
 "metadata": {
  "kernelspec": {
   "display_name": ".venv",
   "language": "python",
   "name": "python3"
  },
  "language_info": {
   "codemirror_mode": {
    "name": "ipython",
    "version": 3
   },
   "file_extension": ".py",
   "mimetype": "text/x-python",
   "name": "python",
   "nbconvert_exporter": "python",
   "pygments_lexer": "ipython3",
   "version": "3.11.9"
  },
  "orig_nbformat": 4
 },
 "nbformat": 4,
 "nbformat_minor": 2
}
